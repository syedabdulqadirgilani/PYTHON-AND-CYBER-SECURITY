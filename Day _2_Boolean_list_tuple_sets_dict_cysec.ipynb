{
 "cells": [
  {
   "cell_type": "markdown",
   "metadata": {},
   "source": [
    "<h1>LIST:</h1>\n"
   ]
  },
  {
   "cell_type": "code",
   "execution_count": 1,
   "metadata": {},
   "outputs": [],
   "source": [
    "subjects = ['History', 'Math', 'Physics', 'CS']"
   ]
  },
  {
   "cell_type": "code",
   "execution_count": 2,
   "metadata": {},
   "outputs": [
    {
     "name": "stdout",
     "output_type": "stream",
     "text": [
      "['History', 'Math', 'Physics', 'CS']\n"
     ]
    }
   ],
   "source": [
    "print(subjects) \n",
    "#Prints all the elements of the list"
   ]
  },
  {
   "cell_type": "code",
   "execution_count": 3,
   "metadata": {},
   "outputs": [
    {
     "name": "stdout",
     "output_type": "stream",
     "text": [
      "4\n"
     ]
    }
   ],
   "source": [
    "print(len(subjects))\n",
    "#Prints number of elements in list"
   ]
  },
  {
   "cell_type": "code",
   "execution_count": 4,
   "metadata": {},
   "outputs": [
    {
     "name": "stdout",
     "output_type": "stream",
     "text": [
      "History\n"
     ]
    }
   ],
   "source": [
    "print(subjects[0])\n",
    "#Prints the 1st element (History)"
   ]
  },
  {
   "cell_type": "code",
   "execution_count": 5,
   "metadata": {},
   "outputs": [
    {
     "name": "stdout",
     "output_type": "stream",
     "text": [
      "CS\n"
     ]
    }
   ],
   "source": [
    "print(subjects[-1])\n",
    "#Prints the last element (History)"
   ]
  },
  {
   "cell_type": "code",
   "execution_count": 6,
   "metadata": {},
   "outputs": [
    {
     "name": "stdout",
     "output_type": "stream",
     "text": [
      "['History', 'Math']\n",
      "['History', 'Math']\n"
     ]
    }
   ],
   "source": [
    "print(subjects[:2])\n",
    "#Prints the 1st & 2nd element (History)\n",
    "print(subjects[:2])"
   ]
  },
  {
   "cell_type": "code",
   "execution_count": 7,
   "metadata": {},
   "outputs": [
    {
     "name": "stdout",
     "output_type": "stream",
     "text": [
      "['History', 'Math', 'Physics', 'CS', 'DS']\n"
     ]
    }
   ],
   "source": [
    "subjects.append('DS')\n",
    "#Adds the item at the end of the list\n",
    "print(subjects)"
   ]
  },
  {
   "cell_type": "code",
   "execution_count": 8,
   "metadata": {},
   "outputs": [
    {
     "name": "stdout",
     "output_type": "stream",
     "text": [
      "['DBMS', 'History', 'Math', 'Physics', 'CS', 'DS']\n"
     ]
    }
   ],
   "source": [
    "subjects.insert(0,'DBMS')\n",
    "#Adds the item at index 0\n",
    "print(subjects)"
   ]
  },
  {
   "cell_type": "code",
   "execution_count": 9,
   "metadata": {},
   "outputs": [],
   "source": [
    "subjects_2 = ['Art', 'Design', 'Chemistry']"
   ]
  },
  {
   "cell_type": "code",
   "execution_count": 10,
   "metadata": {},
   "outputs": [],
   "source": [
    "#subjects.insert(0,subjects_2)\n",
    "#print(subjects)\n",
    "#Let's try to add elements of subject_2 to subjects\n",
    "#it got added as a seperate list in element 0, rather than splitting the items in subject_2 then adding them"
   ]
  },
  {
   "cell_type": "code",
   "execution_count": 11,
   "metadata": {},
   "outputs": [
    {
     "name": "stdout",
     "output_type": "stream",
     "text": [
      "['DBMS', 'History', 'Math', 'Physics', 'CS', 'DS', 'Art', 'Design', 'Chemistry']\n"
     ]
    }
   ],
   "source": [
    "subjects.extend(subjects_2)\n",
    "print(subjects)\n",
    "#Adds each element seperately to subject_2 at the end of the list"
   ]
  },
  {
   "cell_type": "code",
   "execution_count": 12,
   "metadata": {},
   "outputs": [
    {
     "name": "stdout",
     "output_type": "stream",
     "text": [
      "['DBMS', 'History', 'Physics', 'CS', 'DS', 'Art', 'Design', 'Chemistry']\n"
     ]
    }
   ],
   "source": [
    "subjects.remove('Math')\n",
    "#Finds & Removes Math from the list\n",
    "print(subjects)"
   ]
  },
  {
   "cell_type": "code",
   "execution_count": 13,
   "metadata": {},
   "outputs": [
    {
     "name": "stdout",
     "output_type": "stream",
     "text": [
      "['DBMS', 'History', 'Physics', 'CS', 'DS', 'Art', 'Design']\n",
      "Chemistry\n"
     ]
    }
   ],
   "source": [
    "popped = subjects.pop()\n",
    "#Removes the last item in the list\n",
    "\n",
    "print(subjects)\n",
    "\n",
    "print(popped)\n",
    "#Grabs the popped item"
   ]
  },
  {
   "cell_type": "code",
   "execution_count": 14,
   "metadata": {},
   "outputs": [
    {
     "name": "stdout",
     "output_type": "stream",
     "text": [
      "['Design', 'Art', 'DS', 'CS', 'Physics', 'History', 'DBMS']\n"
     ]
    }
   ],
   "source": [
    "subjects.reverse()\n",
    "#Reverses the list\n",
    "print(subjects)"
   ]
  },
  {
   "cell_type": "code",
   "execution_count": 15,
   "metadata": {},
   "outputs": [
    {
     "name": "stdout",
     "output_type": "stream",
     "text": [
      "['Art', 'CS', 'DBMS', 'DS', 'Design', 'History', 'Physics']\n",
      "[1, 2, 3, 4, 5, 6]\n"
     ]
    }
   ],
   "source": [
    "subjects.sort()\n",
    "#Sorts the list in alphabetical order\n",
    "print(subjects)\n",
    "\n",
    "num_list = [2,6,4,5,3,1]\n",
    "num_list.sort()\n",
    "print(num_list)"
   ]
  },
  {
   "cell_type": "code",
   "execution_count": 16,
   "metadata": {},
   "outputs": [
    {
     "name": "stdout",
     "output_type": "stream",
     "text": [
      "1\n",
      "6\n",
      "21\n"
     ]
    }
   ],
   "source": [
    "print(min(num_list))\n",
    "print(max(num_list))\n",
    "print(sum(num_list))"
   ]
  },
  {
   "cell_type": "code",
   "execution_count": 17,
   "metadata": {},
   "outputs": [
    {
     "name": "stdout",
     "output_type": "stream",
     "text": [
      "1\n"
     ]
    }
   ],
   "source": [
    "print(subjects.index('CS'))\n",
    "#Returns the index value of the item"
   ]
  },
  {
   "cell_type": "code",
   "execution_count": 18,
   "metadata": {},
   "outputs": [
    {
     "name": "stdout",
     "output_type": "stream",
     "text": [
      "True\n"
     ]
    }
   ],
   "source": [
    "print('Art' in subjects)\n",
    "#Checks weather the item is present in the list or not"
   ]
  },
  {
   "cell_type": "code",
   "execution_count": 19,
   "metadata": {},
   "outputs": [
    {
     "name": "stdout",
     "output_type": "stream",
     "text": [
      "Art\n",
      "CS\n",
      "DBMS\n",
      "DS\n",
      "Design\n",
      "History\n",
      "Physics\n"
     ]
    }
   ],
   "source": [
    "for item in subjects:\n",
    "    print(item)\n",
    "#Prints each item in new line    "
   ]
  },
  {
   "cell_type": "code",
   "execution_count": 20,
   "metadata": {},
   "outputs": [
    {
     "name": "stdout",
     "output_type": "stream",
     "text": [
      "0 Art\n",
      "1 CS\n",
      "2 DBMS\n",
      "3 DS\n",
      "4 Design\n",
      "5 History\n",
      "6 Physics\n"
     ]
    }
   ],
   "source": [
    "for index,subject in enumerate(subjects):\n",
    "    print(index,subject)\n",
    "#Print the items along with index numbers starting from 0. this is done by enumerate() function"
   ]
  },
  {
   "cell_type": "code",
   "execution_count": 21,
   "metadata": {},
   "outputs": [
    {
     "name": "stdout",
     "output_type": "stream",
     "text": [
      "1 Art\n",
      "2 CS\n",
      "3 DBMS\n",
      "4 DS\n",
      "5 Design\n",
      "6 History\n",
      "7 Physics\n"
     ]
    }
   ],
   "source": [
    "for index,subject in enumerate(subjects,start=1):\n",
    "    print(index, subject)\n",
    "#Print the items along with index numbers starting from 1. this is done by enumerate() function"
   ]
  },
  {
   "cell_type": "code",
   "execution_count": 23,
   "metadata": {},
   "outputs": [
    {
     "name": "stdout",
     "output_type": "stream",
     "text": [
      "Art - CS - DBMS - DS - Design - History - Physics\n"
     ]
    }
   ],
   "source": [
    "subject_str = ' - '.join(subjects)\n",
    "print(subject_str)\n",
    "#turns list into '-' seperated string"
   ]
  },
  {
   "cell_type": "code",
   "execution_count": 24,
   "metadata": {},
   "outputs": [
    {
     "name": "stdout",
     "output_type": "stream",
     "text": [
      "['Art ', ' CS ', ' DBMS ', ' DS ', ' Design ', ' History ', ' Physics']\n"
     ]
    }
   ],
   "source": [
    "new_list = subject_str.split('-')\n",
    "print(new_list)\n",
    "#Creates the list, just reverse of .join()"
   ]
  },
  {
   "cell_type": "markdown",
   "metadata": {},
   "source": [
    "\n",
    "\n",
    "<h1>Tuple: </h1>\n",
    "Doesn't have much supported functions as of list because tuple is immutable"
   ]
  },
  {
   "cell_type": "code",
   "execution_count": 25,
   "metadata": {},
   "outputs": [],
   "source": [
    "tup_1 = ('History', 'Math', 'Physics', 'CS')"
   ]
  },
  {
   "cell_type": "code",
   "execution_count": 26,
   "metadata": {},
   "outputs": [
    {
     "ename": "TypeError",
     "evalue": "'tuple' object does not support item assignment",
     "output_type": "error",
     "traceback": [
      "\u001b[1;31m---------------------------------------------------------------------------\u001b[0m",
      "\u001b[1;31mTypeError\u001b[0m                                 Traceback (most recent call last)",
      "\u001b[1;32m<ipython-input-26-20f41ff68d0f>\u001b[0m in \u001b[0;36m<module>\u001b[1;34m\u001b[0m\n\u001b[1;32m----> 1\u001b[1;33m \u001b[0mtup_1\u001b[0m\u001b[1;33m[\u001b[0m\u001b[1;36m0\u001b[0m\u001b[1;33m]\u001b[0m \u001b[1;33m=\u001b[0m \u001b[1;34m'Art'\u001b[0m\u001b[1;33m\u001b[0m\u001b[1;33m\u001b[0m\u001b[0m\n\u001b[0m",
      "\u001b[1;31mTypeError\u001b[0m: 'tuple' object does not support item assignment"
     ]
    }
   ],
   "source": [
    "tup_1[0] = 'Art'"
   ]
  },
  {
   "cell_type": "code",
   "execution_count": 27,
   "metadata": {},
   "outputs": [
    {
     "name": "stdout",
     "output_type": "stream",
     "text": [
      "('History', 'Math', 'Physics', 'CS')\n"
     ]
    }
   ],
   "source": [
    "print(tup_1)"
   ]
  },
  {
   "cell_type": "code",
   "execution_count": 29,
   "metadata": {},
   "outputs": [],
   "source": [
    "#Only supports that functions that doesn't mutate the list"
   ]
  },
  {
   "cell_type": "markdown",
   "metadata": {},
   "source": [
    "\n",
    "\n",
    "\n",
    "<h1>SETS: </h1>\n",
    "Doesn't care about order & dumps away duplicate item\n"
   ]
  },
  {
   "cell_type": "code",
   "execution_count": 31,
   "metadata": {},
   "outputs": [],
   "source": [
    "cs_courses = {'DS','DBMS','History','Math','Physics'}"
   ]
  },
  {
   "cell_type": "code",
   "execution_count": 32,
   "metadata": {},
   "outputs": [],
   "source": [
    "#Changes order every time the code executes"
   ]
  },
  {
   "cell_type": "code",
   "execution_count": 34,
   "metadata": {},
   "outputs": [
    {
     "name": "stdout",
     "output_type": "stream",
     "text": [
      "False\n"
     ]
    }
   ],
   "source": [
    "print('Math' in cs_courses)\n",
    "#Checks membership in the set"
   ]
  },
  {
   "cell_type": "code",
   "execution_count": 35,
   "metadata": {},
   "outputs": [],
   "source": [
    "art_courses = {'History','Math','Art','Design'}"
   ]
  },
  {
   "cell_type": "code",
   "execution_count": 37,
   "metadata": {},
   "outputs": [
    {
     "name": "stdout",
     "output_type": "stream",
     "text": [
      "set()\n"
     ]
    }
   ],
   "source": [
    "print(cs_courses.intersection(art_courses))"
   ]
  },
  {
   "cell_type": "code",
   "execution_count": null,
   "metadata": {},
   "outputs": [],
   "source": []
  }
 ],
 "metadata": {
  "kernelspec": {
   "display_name": "Python 3",
   "language": "python",
   "name": "python3"
  },
  "language_info": {
   "codemirror_mode": {
    "name": "ipython",
    "version": 3
   },
   "file_extension": ".py",
   "mimetype": "text/x-python",
   "name": "python",
   "nbconvert_exporter": "python",
   "pygments_lexer": "ipython3",
   "version": "3.7.3"
  }
 },
 "nbformat": 4,
 "nbformat_minor": 2
}
